{
 "cells": [
  {
   "cell_type": "code",
   "execution_count": 1,
   "metadata": {},
   "outputs": [],
   "source": [
    "import json\n",
    "import numpy as np\n",
    "import pandas as pd\n",
    "import matplotlib.pyplot as plt\n",
    "import seaborn as sns\n",
    "from scipy import stats\n",
    "from sklearn.linear_model import LogisticRegression\n",
    "from sklearn.model_selection import train_test_split\n",
    "from sklearn.preprocessing import LabelEncoder\n",
    "from sklearn.metrics import roc_auc_score\n",
    "from sklearn.metrics import roc_curve"
   ]
  },
  {
   "cell_type": "code",
   "execution_count": 2,
   "metadata": {},
   "outputs": [],
   "source": [
    "#Set options for seaborn and pandas\n",
    "sns.set()\n",
    "pd.set_option(\"display.max_columns\", 30)"
   ]
  },
  {
   "cell_type": "code",
   "execution_count": 3,
   "metadata": {},
   "outputs": [],
   "source": [
    "#Dataset obtained from https://webrobots.io/kickstarter-datasets/\n",
    "#in JSON streaming format\n",
    "fname = \"dataset/kickstarter_dataset.json\"\n",
    "projects = []\n",
    "with open(fname) as datafile:\n",
    "    #Every line is a separate kickstarter campaign (JSON document)\n",
    "    line = datafile.readline().strip()\n",
    "    while line:\n",
    "        if line:\n",
    "            #Load the JSON document\n",
    "            project = json.loads(line)\n",
    "            project = project[\"data\"]\n",
    "            #Pop (remove) any variables that aren't of interest\n",
    "            project.pop(\"photo\")\n",
    "            project.pop(\"slug\")\n",
    "            project.pop(\"currency_symbol\")\n",
    "            project.pop(\"currency_trailing_code\")\n",
    "            project.pop(\"creator\")\n",
    "            project.pop(\"static_usd_rate\")\n",
    "            project[\"category\"] = project[\"category\"][\"slug\"]\n",
    "            project.pop(\"profile\")\n",
    "            project.pop(\"urls\")\n",
    "            project.pop(\"source_url\")\n",
    "            project.pop(\"usd_type\")\n",
    "            project.pop(\"fx_rate\")\n",
    "            project.pop(\"created_at\")\n",
    "            project.pop(\"state_changed_at\")\n",
    "            #Append the campaign to a list\n",
    "            projects.append(project)\n",
    "            line = datafile.readline().strip()"
   ]
  },
  {
   "cell_type": "code",
   "execution_count": 4,
   "metadata": {},
   "outputs": [],
   "source": [
    "#Create a dataframe from the campaigns\n",
    "df = pd.DataFrame(projects)\n",
    "#Drop some more columns that don't appear in all campaigns\n",
    "df = df.drop([\"friends\", \"permissions\", \"is_starrable\", \"is_starred\", \"is_backing\", \"spotlight\", \"staff_pick\", \"location\", \"converted_pledged_amount\", \"current_currency\", \"disable_communication\"], axis=1)"
   ]
  },
  {
   "cell_type": "code",
   "execution_count": 5,
   "metadata": {},
   "outputs": [],
   "source": [
    "#The method of webscraping introduces some duplicate campaigns.\n",
    "#Get rid of them using their IDs\n",
    "df = df.drop_duplicates(subset=[\"id\"])"
   ]
  },
  {
   "cell_type": "code",
   "execution_count": 6,
   "metadata": {},
   "outputs": [],
   "source": [
    "#Taking care of the data-types\n",
    "df[\"id\"] = df[\"id\"].astype(\"str\")\n",
    "df[\"usd_pledged\"] = df[\"usd_pledged\"].astype(\"float\")"
   ]
  },
  {
   "cell_type": "code",
   "execution_count": 7,
   "metadata": {},
   "outputs": [],
   "source": [
    "#Date-time are in unix timestamps, make them human readable\n",
    "df[\"deadline\"] = pd.to_datetime(df[\"deadline\"], unit=\"s\")\n",
    "df[\"launched_at\"] = pd.to_datetime(df[\"launched_at\"], unit=\"s\")"
   ]
  },
  {
   "cell_type": "code",
   "execution_count": 8,
   "metadata": {},
   "outputs": [],
   "source": [
    "#Too many sub-categories, reduce them to main categories\n",
    "df[\"category\"] = df[\"category\"].apply(lambda x: x.split(\"/\")[0])\n",
    "df[\"category\"] = df[\"category\"].astype(\"category\")"
   ]
  },
  {
   "cell_type": "code",
   "execution_count": 9,
   "metadata": {},
   "outputs": [],
   "source": [
    "#Campaign length\n",
    "df[\"campaign_length\"] = (df[\"deadline\"] - df[\"launched_at\"]).dt.days\n",
    "#How much of the goal achieved\n",
    "df[\"achievement\"] = df[\"pledged\"] / df[\"goal\"]"
   ]
  },
  {
   "cell_type": "code",
   "execution_count": 10,
   "metadata": {},
   "outputs": [],
   "source": [
    "df[\"currency\"] = df[\"currency\"].astype(\"category\")"
   ]
  },
  {
   "cell_type": "code",
   "execution_count": 11,
   "metadata": {},
   "outputs": [],
   "source": [
    "#Only the failed and successful campaigns are considered\n",
    "df_live = df[df[\"state\"] == \"live\"].copy()\n",
    "df = df[np.logical_or((df[\"state\"] == \"failed\"), df[\"state\"] == \"successful\")]"
   ]
  },
  {
   "cell_type": "code",
   "execution_count": 12,
   "metadata": {},
   "outputs": [],
   "source": [
    "df[\"state\"] = df[\"state\"].astype(\"category\")\n",
    "df_live[\"state\"] = df_live[\"state\"].astype(\"category\")"
   ]
  },
  {
   "cell_type": "code",
   "execution_count": 13,
   "metadata": {},
   "outputs": [
    {
     "data": {
      "text/html": [
       "<div>\n",
       "<style scoped>\n",
       "    .dataframe tbody tr th:only-of-type {\n",
       "        vertical-align: middle;\n",
       "    }\n",
       "\n",
       "    .dataframe tbody tr th {\n",
       "        vertical-align: top;\n",
       "    }\n",
       "\n",
       "    .dataframe thead th {\n",
       "        text-align: right;\n",
       "    }\n",
       "</style>\n",
       "<table border=\"1\" class=\"dataframe\">\n",
       "  <thead>\n",
       "    <tr style=\"text-align: right;\">\n",
       "      <th></th>\n",
       "      <th>backers_count</th>\n",
       "      <th>blurb</th>\n",
       "      <th>category</th>\n",
       "      <th>country</th>\n",
       "      <th>currency</th>\n",
       "      <th>deadline</th>\n",
       "      <th>goal</th>\n",
       "      <th>id</th>\n",
       "      <th>launched_at</th>\n",
       "      <th>name</th>\n",
       "      <th>pledged</th>\n",
       "      <th>state</th>\n",
       "      <th>usd_pledged</th>\n",
       "      <th>campaign_length</th>\n",
       "      <th>achievement</th>\n",
       "    </tr>\n",
       "  </thead>\n",
       "  <tbody>\n",
       "    <tr>\n",
       "      <th>0</th>\n",
       "      <td>1</td>\n",
       "      <td>Jozii is the premier service for full-time uni...</td>\n",
       "      <td>technology</td>\n",
       "      <td>US</td>\n",
       "      <td>USD</td>\n",
       "      <td>2014-11-28 04:59:00</td>\n",
       "      <td>3500.0</td>\n",
       "      <td>895922629</td>\n",
       "      <td>2014-10-28 19:42:54</td>\n",
       "      <td>Jozii-College Jobs Made Easy</td>\n",
       "      <td>50.00</td>\n",
       "      <td>failed</td>\n",
       "      <td>50.000000</td>\n",
       "      <td>30</td>\n",
       "      <td>0.014286</td>\n",
       "    </tr>\n",
       "    <tr>\n",
       "      <th>1</th>\n",
       "      <td>63</td>\n",
       "      <td>Dropsy is an adventure game with a focus on ex...</td>\n",
       "      <td>games</td>\n",
       "      <td>US</td>\n",
       "      <td>USD</td>\n",
       "      <td>2011-11-02 18:39:11</td>\n",
       "      <td>225.0</td>\n",
       "      <td>1190376005</td>\n",
       "      <td>2011-10-17 18:39:11</td>\n",
       "      <td>DROPSY: A different take on the old school adv...</td>\n",
       "      <td>1613.47</td>\n",
       "      <td>successful</td>\n",
       "      <td>1613.470000</td>\n",
       "      <td>16</td>\n",
       "      <td>7.170978</td>\n",
       "    </tr>\n",
       "    <tr>\n",
       "      <th>2</th>\n",
       "      <td>113</td>\n",
       "      <td>We've bought a press and already found a studi...</td>\n",
       "      <td>publishing</td>\n",
       "      <td>US</td>\n",
       "      <td>USD</td>\n",
       "      <td>2014-09-12 06:12:18</td>\n",
       "      <td>6500.0</td>\n",
       "      <td>672906219</td>\n",
       "      <td>2014-08-13 06:12:18</td>\n",
       "      <td>Letra Chueca / Crooked Letter: a printshop &amp; b...</td>\n",
       "      <td>6633.00</td>\n",
       "      <td>successful</td>\n",
       "      <td>6633.000000</td>\n",
       "      <td>30</td>\n",
       "      <td>1.020462</td>\n",
       "    </tr>\n",
       "    <tr>\n",
       "      <th>3</th>\n",
       "      <td>1</td>\n",
       "      <td>Premium, fashion sneaker brand intertwining hi...</td>\n",
       "      <td>fashion</td>\n",
       "      <td>GB</td>\n",
       "      <td>GBP</td>\n",
       "      <td>2016-05-03 20:04:16</td>\n",
       "      <td>15000.0</td>\n",
       "      <td>2121203785</td>\n",
       "      <td>2016-03-04 21:04:16</td>\n",
       "      <td>High End Premium Handmade Sneakers</td>\n",
       "      <td>1.00</td>\n",
       "      <td>failed</td>\n",
       "      <td>1.407899</td>\n",
       "      <td>59</td>\n",
       "      <td>0.000067</td>\n",
       "    </tr>\n",
       "    <tr>\n",
       "      <th>4</th>\n",
       "      <td>99</td>\n",
       "      <td>Made in Europe from the finest quality leather...</td>\n",
       "      <td>fashion</td>\n",
       "      <td>CA</td>\n",
       "      <td>CAD</td>\n",
       "      <td>2015-04-22 05:01:38</td>\n",
       "      <td>15000.0</td>\n",
       "      <td>434454655</td>\n",
       "      <td>2015-03-18 05:01:38</td>\n",
       "      <td>The Domenico Sneakerboot by Luigi Sardo Shoes</td>\n",
       "      <td>25338.00</td>\n",
       "      <td>successful</td>\n",
       "      <td>19817.405716</td>\n",
       "      <td>35</td>\n",
       "      <td>1.689200</td>\n",
       "    </tr>\n",
       "  </tbody>\n",
       "</table>\n",
       "</div>"
      ],
      "text/plain": [
       "   backers_count                                              blurb  \\\n",
       "0              1  Jozii is the premier service for full-time uni...   \n",
       "1             63  Dropsy is an adventure game with a focus on ex...   \n",
       "2            113  We've bought a press and already found a studi...   \n",
       "3              1  Premium, fashion sneaker brand intertwining hi...   \n",
       "4             99  Made in Europe from the finest quality leather...   \n",
       "\n",
       "     category country currency            deadline     goal          id  \\\n",
       "0  technology      US      USD 2014-11-28 04:59:00   3500.0   895922629   \n",
       "1       games      US      USD 2011-11-02 18:39:11    225.0  1190376005   \n",
       "2  publishing      US      USD 2014-09-12 06:12:18   6500.0   672906219   \n",
       "3     fashion      GB      GBP 2016-05-03 20:04:16  15000.0  2121203785   \n",
       "4     fashion      CA      CAD 2015-04-22 05:01:38  15000.0   434454655   \n",
       "\n",
       "          launched_at                                               name  \\\n",
       "0 2014-10-28 19:42:54                       Jozii-College Jobs Made Easy   \n",
       "1 2011-10-17 18:39:11  DROPSY: A different take on the old school adv...   \n",
       "2 2014-08-13 06:12:18  Letra Chueca / Crooked Letter: a printshop & b...   \n",
       "3 2016-03-04 21:04:16                 High End Premium Handmade Sneakers   \n",
       "4 2015-03-18 05:01:38      The Domenico Sneakerboot by Luigi Sardo Shoes   \n",
       "\n",
       "    pledged       state   usd_pledged  campaign_length  achievement  \n",
       "0     50.00      failed     50.000000               30     0.014286  \n",
       "1   1613.47  successful   1613.470000               16     7.170978  \n",
       "2   6633.00  successful   6633.000000               30     1.020462  \n",
       "3      1.00      failed      1.407899               59     0.000067  \n",
       "4  25338.00  successful  19817.405716               35     1.689200  "
      ]
     },
     "execution_count": 13,
     "metadata": {},
     "output_type": "execute_result"
    }
   ],
   "source": [
    "df.head()"
   ]
  },
  {
   "cell_type": "code",
   "execution_count": 14,
   "metadata": {},
   "outputs": [
    {
     "data": {
      "text/plain": [
       "backers_count               int64\n",
       "blurb                      object\n",
       "category                 category\n",
       "country                    object\n",
       "currency                 category\n",
       "deadline           datetime64[ns]\n",
       "goal                      float64\n",
       "id                         object\n",
       "launched_at        datetime64[ns]\n",
       "name                       object\n",
       "pledged                   float64\n",
       "state                    category\n",
       "usd_pledged               float64\n",
       "campaign_length             int64\n",
       "achievement               float64\n",
       "dtype: object"
      ]
     },
     "execution_count": 14,
     "metadata": {},
     "output_type": "execute_result"
    }
   ],
   "source": [
    "df.dtypes"
   ]
  },
  {
   "cell_type": "code",
   "execution_count": 15,
   "metadata": {},
   "outputs": [
    {
     "name": "stdout",
     "output_type": "stream",
     "text": [
      "Total projects: 173886\n",
      "Successful projects: 99464\n",
      "Failed projects: 74422\n"
     ]
    }
   ],
   "source": [
    "print(\"Total projects:\", df.shape[0])\n",
    "print(\"Successful projects:\", (df[df[\"state\"] == \"successful\"]).shape[0])\n",
    "print(\"Failed projects:\", (df[df[\"state\"] == \"failed\"]).shape[0])"
   ]
  },
  {
   "cell_type": "code",
   "execution_count": 16,
   "metadata": {},
   "outputs": [
    {
     "data": {
      "image/png": "[encoded data removed]",
      "text/plain": [
       "<Figure size 576x576 with 1 Axes>"
      ]
     },
     "metadata": {},
     "output_type": "display_data"
    }
   ],
   "source": [
    "goal_plot = sns.boxplot(data=df, x=\"state\", y=\"goal\", orient=\"vertical\")\n",
    "goal_plot.figure.set_size_inches(8, 8)\n",
    "goal_plot.axes.set_yscale(\"log\")\n",
    "goal_plot.set_ylabel(\"Goal Amount\")\n",
    "plt.show()"
   ]
  },
  {
   "cell_type": "markdown",
   "metadata": {},
   "source": [
    "Successful campaigns tend to have a lower goal amount. Notice that the y-scale is logarithmic."
   ]
  },
  {
   "cell_type": "code",
   "execution_count": 17,
   "metadata": {},
   "outputs": [
    {
     "data": {
      "text/plain": [
       "Ttest_indResult(statistic=14.341902917316457, pvalue=1.273048152669014e-46)"
      ]
     },
     "execution_count": 17,
     "metadata": {},
     "output_type": "execute_result"
    }
   ],
   "source": [
    "stats.ttest_ind(df[df[\"state\"] == \"failed\"][\"goal\"], df[df[\"state\"] == \"successful\"][\"goal\"])"
   ]
  },
  {
   "cell_type": "code",
   "execution_count": 18,
   "metadata": {},
   "outputs": [
    {
     "name": "stdout",
     "output_type": "stream",
     "text": [
      "Mean goal among failed campaigns 87160.02970317917\n",
      "Mean goal among successful campaigns 10346.239174475191\n"
     ]
    }
   ],
   "source": [
    "print(\"Mean goal among failed campaigns\", np.mean(df[df[\"state\"] == \"failed\"][\"goal\"]))\n",
    "print(\"Mean goal among successful campaigns\", np.mean(df[df[\"state\"] == \"successful\"][\"goal\"]))"
   ]
  },
  {
   "cell_type": "code",
   "execution_count": 23,
   "metadata": {},
   "outputs": [
    {
     "data": {
      "image/png": "[encoded data removed]",
      "text/plain": [
       "<Figure size 576x576 with 1 Axes>"
      ]
     },
     "metadata": {},
     "output_type": "display_data"
    }
   ],
   "source": [
    "pledge_plot = sns.boxplot(data=df, x=\"state\", y=\"usd_pledged\", orient=\"vertical\")\n",
    "pledge_plot.figure.set_size_inches(8, 8)\n",
    "pledge_plot.axes.set_yscale(\"log\")\n",
    "pledge_plot.set_ylabel(\"Pledged Amount (USD)\")\n",
    "plt.show()"
   ]
  },
  {
   "cell_type": "markdown",
   "metadata": {},
   "source": [
    "Successful campaigns have much higher amount pledged by backers. Again, the y-scale is logarithmic.  \n",
    "Which means orders of magnitude more amount is pledged to successful campaigns compared to failed ones."
   ]
  },
  {
   "cell_type": "code",
   "execution_count": 24,
   "metadata": {},
   "outputs": [
    {
     "data": {
      "text/plain": [
       "Ttest_indResult(statistic=-44.63158041269377, pvalue=0.0)"
      ]
     },
     "execution_count": 24,
     "metadata": {},
     "output_type": "execute_result"
    }
   ],
   "source": [
    "stats.ttest_ind(df[df[\"state\"] == \"failed\"][\"usd_pledged\"], df[df[\"state\"] == \"successful\"][\"usd_pledged\"])"
   ]
  },
  {
   "cell_type": "code",
   "execution_count": 25,
   "metadata": {},
   "outputs": [
    {
     "name": "stdout",
     "output_type": "stream",
     "text": [
      "Mean pledged amount among failed campaigns 1157.0520787530152\n",
      "Mean pledged amount among successful campaigns 19159.71023293669\n"
     ]
    }
   ],
   "source": [
    "print(\"Mean pledged amount among failed campaigns\", np.mean(df[df[\"state\"] == \"failed\"][\"usd_pledged\"]))\n",
    "print(\"Mean pledged amount among successful campaigns\", np.mean(df[df[\"state\"] == \"successful\"][\"usd_pledged\"]))"
   ]
  },
  {
   "cell_type": "code",
   "execution_count": 26,
   "metadata": {},
   "outputs": [
    {
     "data": {
      "image/png": "[encoded data removed]",
      "text/plain": [
       "<Figure size 1080x576 with 1 Axes>"
      ]
     },
     "metadata": {},
     "output_type": "display_data"
    }
   ],
   "source": [
    "cat_state_plot_data = df.groupby([\"category\", \"state\"]).size().reset_index(name=\"counts\")\n",
    "cat_state_plot = sns.barplot(data=cat_state_plot_data, x=\"category\", y=\"counts\", hue=\"state\")\n",
    "cat_state_plot.figure.set_size_inches(15, 8)\n",
    "cat_state_plot.set_xticklabels(cat_state_plot.get_xticklabels(), rotation=30, fontdict={\"size\": 13})\n",
    "cat_state_plot.set_title(\"Campaigns by Categories\", fontdict={\"size\": 14})\n",
    "cat_state_plot.set_xlabel(\"Campaign Catergories\")\n",
    "cat_state_plot.set_ylabel(\"Number of Campaigns\")\n",
    "plt.show()"
   ]
  },
  {
   "cell_type": "code",
   "execution_count": 27,
   "metadata": {},
   "outputs": [
    {
     "data": {
      "image/png": "[encoded data removed]",
      "text/plain": [
       "<Figure size 1080x576 with 1 Axes>"
      ]
     },
     "metadata": {},
     "output_type": "display_data"
    }
   ],
   "source": [
    "country_goal_achievement = df[[\"country\", \"goal\", \"pledged\"]].dropna()\n",
    "country_goal_achievement = country_goal_achievement.groupby([\"country\"]).sum().reset_index()\n",
    "country_goal_achievement[\"achievement\"] = country_goal_achievement[\"pledged\"] / country_goal_achievement[\"goal\"] * 100\n",
    "country_goal_achievement = country_goal_achievement.sort_values(ascending=False, by=\"achievement\")\n",
    "country_goal_achievement_plot = sns.barplot(data=country_goal_achievement[:10], x=\"achievement\", y=\"country\")\n",
    "country_goal_achievement_plot.figure.set_size_inches(15, 8)\n",
    "country_goal_achievement_plot.set_ylabel(\"Country\")\n",
    "country_goal_achievement_plot.set_xlabel(\"Goal Achievement (%)\")\n",
    "plt.show()"
   ]
  },
  {
   "cell_type": "markdown",
   "metadata": {},
   "source": [
    "Hong Kong is by far the most successful country by goal amount achieved. It is followed by Luxembourg and Japan, both close together. Values higher than 100 mean that several campaigns achieved their goals and even surpassed them."
   ]
  },
  {
   "cell_type": "code",
   "execution_count": 28,
   "metadata": {},
   "outputs": [
    {
     "data": {
      "text/html": [
       "<div>\n",
       "<style scoped>\n",
       "    .dataframe tbody tr th:only-of-type {\n",
       "        vertical-align: middle;\n",
       "    }\n",
       "\n",
       "    .dataframe tbody tr th {\n",
       "        vertical-align: top;\n",
       "    }\n",
       "\n",
       "    .dataframe thead th {\n",
       "        text-align: right;\n",
       "    }\n",
       "</style>\n",
       "<table border=\"1\" class=\"dataframe\">\n",
       "  <thead>\n",
       "    <tr style=\"text-align: right;\">\n",
       "      <th></th>\n",
       "      <th>name</th>\n",
       "      <th>category</th>\n",
       "      <th>usd_pledged</th>\n",
       "      <th>state</th>\n",
       "    </tr>\n",
       "  </thead>\n",
       "  <tbody>\n",
       "    <tr>\n",
       "      <th>80539</th>\n",
       "      <td>Pebble: E-Paper Watch for iPhone and Android</td>\n",
       "      <td>design</td>\n",
       "      <td>10266845.74</td>\n",
       "      <td>successful</td>\n",
       "    </tr>\n",
       "    <tr>\n",
       "      <th>179857</th>\n",
       "      <td>OUYA: A New Kind of Video Game Console</td>\n",
       "      <td>games</td>\n",
       "      <td>8596474.58</td>\n",
       "      <td>successful</td>\n",
       "    </tr>\n",
       "    <tr>\n",
       "      <th>114940</th>\n",
       "      <td>Shenmue 3</td>\n",
       "      <td>games</td>\n",
       "      <td>6333295.77</td>\n",
       "      <td>successful</td>\n",
       "    </tr>\n",
       "    <tr>\n",
       "      <th>117964</th>\n",
       "      <td>Pono Music - Where Your Soul Rediscovers Music</td>\n",
       "      <td>technology</td>\n",
       "      <td>6225354.98</td>\n",
       "      <td>successful</td>\n",
       "    </tr>\n",
       "    <tr>\n",
       "      <th>68972</th>\n",
       "      <td>Bring Back MYSTERY SCIENCE THEATER 3000</td>\n",
       "      <td>film &amp; video</td>\n",
       "      <td>5764229.38</td>\n",
       "      <td>successful</td>\n",
       "    </tr>\n",
       "    <tr>\n",
       "      <th>150213</th>\n",
       "      <td>The Veronica Mars Movie Project</td>\n",
       "      <td>film &amp; video</td>\n",
       "      <td>5702153.38</td>\n",
       "      <td>successful</td>\n",
       "    </tr>\n",
       "    <tr>\n",
       "      <th>78658</th>\n",
       "      <td>Bloodstained: Ritual of the Night</td>\n",
       "      <td>games</td>\n",
       "      <td>5545991.70</td>\n",
       "      <td>successful</td>\n",
       "    </tr>\n",
       "    <tr>\n",
       "      <th>69279</th>\n",
       "      <td>Bring Reading Rainbow Back for Every Child, Ev...</td>\n",
       "      <td>technology</td>\n",
       "      <td>5408916.95</td>\n",
       "      <td>successful</td>\n",
       "    </tr>\n",
       "    <tr>\n",
       "      <th>177572</th>\n",
       "      <td>ZeTime: World's first smartwatch with hands ov...</td>\n",
       "      <td>technology</td>\n",
       "      <td>5333792.84</td>\n",
       "      <td>successful</td>\n",
       "    </tr>\n",
       "    <tr>\n",
       "      <th>41233</th>\n",
       "      <td>Pimax: The World's First 8K VR Headset</td>\n",
       "      <td>technology</td>\n",
       "      <td>4236618.49</td>\n",
       "      <td>successful</td>\n",
       "    </tr>\n",
       "  </tbody>\n",
       "</table>\n",
       "</div>"
      ],
      "text/plain": [
       "                                                     name      category  \\\n",
       "80539        Pebble: E-Paper Watch for iPhone and Android        design   \n",
       "179857             OUYA: A New Kind of Video Game Console         games   \n",
       "114940                                          Shenmue 3         games   \n",
       "117964     Pono Music - Where Your Soul Rediscovers Music    technology   \n",
       "68972             Bring Back MYSTERY SCIENCE THEATER 3000  film & video   \n",
       "150213                    The Veronica Mars Movie Project  film & video   \n",
       "78658                   Bloodstained: Ritual of the Night         games   \n",
       "69279   Bring Reading Rainbow Back for Every Child, Ev...    technology   \n",
       "177572  ZeTime: World's first smartwatch with hands ov...    technology   \n",
       "41233              Pimax: The World's First 8K VR Headset    technology   \n",
       "\n",
       "        usd_pledged       state  \n",
       "80539   10266845.74  successful  \n",
       "179857   8596474.58  successful  \n",
       "114940   6333295.77  successful  \n",
       "117964   6225354.98  successful  \n",
       "68972    5764229.38  successful  \n",
       "150213   5702153.38  successful  \n",
       "78658    5545991.70  successful  \n",
       "69279    5408916.95  successful  \n",
       "177572   5333792.84  successful  \n",
       "41233    4236618.49  successful  "
      ]
     },
     "execution_count": 28,
     "metadata": {},
     "output_type": "execute_result"
    }
   ],
   "source": [
    "df.sort_values(ascending=False, by=\"usd_pledged\")[[\"name\", \"category\", \"usd_pledged\", \"state\"]].head(10)"
   ]
  },
  {
   "cell_type": "markdown",
   "metadata": {},
   "source": [
    "Top 10 campaigns by amount pledged."
   ]
  },
  {
   "cell_type": "code",
   "execution_count": 29,
   "metadata": {},
   "outputs": [
    {
     "data": {
      "text/html": [
       "<div>\n",
       "<style scoped>\n",
       "    .dataframe tbody tr th:only-of-type {\n",
       "        vertical-align: middle;\n",
       "    }\n",
       "\n",
       "    .dataframe tbody tr th {\n",
       "        vertical-align: top;\n",
       "    }\n",
       "\n",
       "    .dataframe thead th {\n",
       "        text-align: right;\n",
       "    }\n",
       "</style>\n",
       "<table border=\"1\" class=\"dataframe\">\n",
       "  <thead>\n",
       "    <tr style=\"text-align: right;\">\n",
       "      <th></th>\n",
       "      <th>name</th>\n",
       "      <th>category</th>\n",
       "      <th>backers_count</th>\n",
       "      <th>state</th>\n",
       "      <th>usd_pledged</th>\n",
       "    </tr>\n",
       "  </thead>\n",
       "  <tbody>\n",
       "    <tr>\n",
       "      <th>69279</th>\n",
       "      <td>Bring Reading Rainbow Back for Every Child, Ev...</td>\n",
       "      <td>technology</td>\n",
       "      <td>105857</td>\n",
       "      <td>successful</td>\n",
       "      <td>5.408917e+06</td>\n",
       "    </tr>\n",
       "    <tr>\n",
       "      <th>150213</th>\n",
       "      <td>The Veronica Mars Movie Project</td>\n",
       "      <td>film &amp; video</td>\n",
       "      <td>91585</td>\n",
       "      <td>successful</td>\n",
       "      <td>5.702153e+06</td>\n",
       "    </tr>\n",
       "    <tr>\n",
       "      <th>13732</th>\n",
       "      <td>Double Fine Adventure</td>\n",
       "      <td>games</td>\n",
       "      <td>87142</td>\n",
       "      <td>successful</td>\n",
       "      <td>3.336372e+06</td>\n",
       "    </tr>\n",
       "    <tr>\n",
       "      <th>129025</th>\n",
       "      <td>Torment: Tides of Numenera</td>\n",
       "      <td>games</td>\n",
       "      <td>74405</td>\n",
       "      <td>successful</td>\n",
       "      <td>4.188927e+06</td>\n",
       "    </tr>\n",
       "    <tr>\n",
       "      <th>141451</th>\n",
       "      <td>Project Eternity</td>\n",
       "      <td>games</td>\n",
       "      <td>73986</td>\n",
       "      <td>successful</td>\n",
       "      <td>3.986929e+06</td>\n",
       "    </tr>\n",
       "    <tr>\n",
       "      <th>174366</th>\n",
       "      <td>Yooka-Laylee - A 3D Platformer Rare-vival!</td>\n",
       "      <td>games</td>\n",
       "      <td>73206</td>\n",
       "      <td>successful</td>\n",
       "      <td>3.225225e+06</td>\n",
       "    </tr>\n",
       "    <tr>\n",
       "      <th>114940</th>\n",
       "      <td>Shenmue 3</td>\n",
       "      <td>games</td>\n",
       "      <td>69320</td>\n",
       "      <td>successful</td>\n",
       "      <td>6.333296e+06</td>\n",
       "    </tr>\n",
       "    <tr>\n",
       "      <th>80539</th>\n",
       "      <td>Pebble: E-Paper Watch for iPhone and Android</td>\n",
       "      <td>design</td>\n",
       "      <td>68929</td>\n",
       "      <td>successful</td>\n",
       "      <td>1.026685e+07</td>\n",
       "    </tr>\n",
       "    <tr>\n",
       "      <th>72627</th>\n",
       "      <td>Mighty No. 9</td>\n",
       "      <td>games</td>\n",
       "      <td>67226</td>\n",
       "      <td>successful</td>\n",
       "      <td>3.845171e+06</td>\n",
       "    </tr>\n",
       "    <tr>\n",
       "      <th>78658</th>\n",
       "      <td>Bloodstained: Ritual of the Night</td>\n",
       "      <td>games</td>\n",
       "      <td>64867</td>\n",
       "      <td>successful</td>\n",
       "      <td>5.545992e+06</td>\n",
       "    </tr>\n",
       "  </tbody>\n",
       "</table>\n",
       "</div>"
      ],
      "text/plain": [
       "                                                     name      category  \\\n",
       "69279   Bring Reading Rainbow Back for Every Child, Ev...    technology   \n",
       "150213                    The Veronica Mars Movie Project  film & video   \n",
       "13732                               Double Fine Adventure         games   \n",
       "129025                         Torment: Tides of Numenera         games   \n",
       "141451                                   Project Eternity         games   \n",
       "174366         Yooka-Laylee - A 3D Platformer Rare-vival!         games   \n",
       "114940                                          Shenmue 3         games   \n",
       "80539        Pebble: E-Paper Watch for iPhone and Android        design   \n",
       "72627                                        Mighty No. 9         games   \n",
       "78658                   Bloodstained: Ritual of the Night         games   \n",
       "\n",
       "        backers_count       state   usd_pledged  \n",
       "69279          105857  successful  5.408917e+06  \n",
       "150213          91585  successful  5.702153e+06  \n",
       "13732           87142  successful  3.336372e+06  \n",
       "129025          74405  successful  4.188927e+06  \n",
       "141451          73986  successful  3.986929e+06  \n",
       "174366          73206  successful  3.225225e+06  \n",
       "114940          69320  successful  6.333296e+06  \n",
       "80539           68929  successful  1.026685e+07  \n",
       "72627           67226  successful  3.845171e+06  \n",
       "78658           64867  successful  5.545992e+06  "
      ]
     },
     "execution_count": 29,
     "metadata": {},
     "output_type": "execute_result"
    }
   ],
   "source": [
    "df.sort_values(ascending=False, by=\"backers_count\")[[\"name\", \"category\", \"backers_count\", \"state\", \"usd_pledged\"]].head(10)"
   ]
  },
  {
   "cell_type": "markdown",
   "metadata": {},
   "source": [
    "Top 10 campaigns by number of backers"
   ]
  },
  {
   "cell_type": "code",
   "execution_count": 30,
   "metadata": {},
   "outputs": [
    {
     "data": {
      "text/html": [
       "<div>\n",
       "<style scoped>\n",
       "    .dataframe tbody tr th:only-of-type {\n",
       "        vertical-align: middle;\n",
       "    }\n",
       "\n",
       "    .dataframe tbody tr th {\n",
       "        vertical-align: top;\n",
       "    }\n",
       "\n",
       "    .dataframe thead th {\n",
       "        text-align: right;\n",
       "    }\n",
       "</style>\n",
       "<table border=\"1\" class=\"dataframe\">\n",
       "  <thead>\n",
       "    <tr style=\"text-align: right;\">\n",
       "      <th></th>\n",
       "      <th>name</th>\n",
       "      <th>category</th>\n",
       "      <th>achievement</th>\n",
       "      <th>state</th>\n",
       "      <th>usd_pledged</th>\n",
       "    </tr>\n",
       "  </thead>\n",
       "  <tbody>\n",
       "    <tr>\n",
       "      <th>92715</th>\n",
       "      <td>Energy Hook</td>\n",
       "      <td>games</td>\n",
       "      <td>41535.010</td>\n",
       "      <td>successful</td>\n",
       "      <td>41535.01</td>\n",
       "    </tr>\n",
       "    <tr>\n",
       "      <th>170303</th>\n",
       "      <td>Tim Rose Visual Album: &lt;3</td>\n",
       "      <td>film &amp; video</td>\n",
       "      <td>28688.180</td>\n",
       "      <td>successful</td>\n",
       "      <td>28688.18</td>\n",
       "    </tr>\n",
       "    <tr>\n",
       "      <th>152898</th>\n",
       "      <td>CLOCKWRIGHT: Large-Scale Analogue Time Machines</td>\n",
       "      <td>art</td>\n",
       "      <td>27588.230</td>\n",
       "      <td>successful</td>\n",
       "      <td>27588.23</td>\n",
       "    </tr>\n",
       "    <tr>\n",
       "      <th>167363</th>\n",
       "      <td>Penny Arcade's Podcast, \"Downloadable Content\"...</td>\n",
       "      <td>publishing</td>\n",
       "      <td>23036.067</td>\n",
       "      <td>successful</td>\n",
       "      <td>230360.67</td>\n",
       "    </tr>\n",
       "    <tr>\n",
       "      <th>195518</th>\n",
       "      <td>THE 'mi8' RISES | The Best Wireless Duo Stereo...</td>\n",
       "      <td>technology</td>\n",
       "      <td>22603.000</td>\n",
       "      <td>successful</td>\n",
       "      <td>22603.00</td>\n",
       "    </tr>\n",
       "    <tr>\n",
       "      <th>119921</th>\n",
       "      <td>Y (A Generation)</td>\n",
       "      <td>film &amp; video</td>\n",
       "      <td>15066.000</td>\n",
       "      <td>successful</td>\n",
       "      <td>15066.00</td>\n",
       "    </tr>\n",
       "    <tr>\n",
       "      <th>70578</th>\n",
       "      <td>Multi-Purpose, All-Occasion Greeting Cards</td>\n",
       "      <td>crafts</td>\n",
       "      <td>12575.150</td>\n",
       "      <td>successful</td>\n",
       "      <td>25150.30</td>\n",
       "    </tr>\n",
       "    <tr>\n",
       "      <th>37400</th>\n",
       "      <td>LOVELAND Round 6: A Force More Powerful</td>\n",
       "      <td>art</td>\n",
       "      <td>10000.000</td>\n",
       "      <td>successful</td>\n",
       "      <td>100.00</td>\n",
       "    </tr>\n",
       "    <tr>\n",
       "      <th>183520</th>\n",
       "      <td>Arduino IoT. Home automation, 3D printing, rob...</td>\n",
       "      <td>technology</td>\n",
       "      <td>9605.000</td>\n",
       "      <td>successful</td>\n",
       "      <td>9605.00</td>\n",
       "    </tr>\n",
       "    <tr>\n",
       "      <th>173522</th>\n",
       "      <td>Dice Set Felt Coasters</td>\n",
       "      <td>games</td>\n",
       "      <td>7548.000</td>\n",
       "      <td>successful</td>\n",
       "      <td>7548.00</td>\n",
       "    </tr>\n",
       "  </tbody>\n",
       "</table>\n",
       "</div>"
      ],
      "text/plain": [
       "                                                     name      category  \\\n",
       "92715                                         Energy Hook         games   \n",
       "170303                          Tim Rose Visual Album: <3  film & video   \n",
       "152898    CLOCKWRIGHT: Large-Scale Analogue Time Machines           art   \n",
       "167363  Penny Arcade's Podcast, \"Downloadable Content\"...    publishing   \n",
       "195518  THE 'mi8' RISES | The Best Wireless Duo Stereo...    technology   \n",
       "119921                                   Y (A Generation)  film & video   \n",
       "70578          Multi-Purpose, All-Occasion Greeting Cards        crafts   \n",
       "37400             LOVELAND Round 6: A Force More Powerful           art   \n",
       "183520  Arduino IoT. Home automation, 3D printing, rob...    technology   \n",
       "173522                             Dice Set Felt Coasters         games   \n",
       "\n",
       "        achievement       state  usd_pledged  \n",
       "92715     41535.010  successful     41535.01  \n",
       "170303    28688.180  successful     28688.18  \n",
       "152898    27588.230  successful     27588.23  \n",
       "167363    23036.067  successful    230360.67  \n",
       "195518    22603.000  successful     22603.00  \n",
       "119921    15066.000  successful     15066.00  \n",
       "70578     12575.150  successful     25150.30  \n",
       "37400     10000.000  successful       100.00  \n",
       "183520     9605.000  successful      9605.00  \n",
       "173522     7548.000  successful      7548.00  "
      ]
     },
     "execution_count": 30,
     "metadata": {},
     "output_type": "execute_result"
    }
   ],
   "source": [
    "df.sort_values(ascending=False, by=\"achievement\")[[\"name\", \"category\", \"achievement\", \"state\", \"usd_pledged\"]].head(10)"
   ]
  },
  {
   "cell_type": "markdown",
   "metadata": {},
   "source": [
    "Top 10 campaigns by achievement"
   ]
  },
  {
   "cell_type": "code",
   "execution_count": 31,
   "metadata": {},
   "outputs": [
    {
     "data": {
      "image/png": "[encoded data removed]",
      "text/plain": [
       "<Figure size 576x576 with 1 Axes>"
      ]
     },
     "metadata": {},
     "output_type": "display_data"
    }
   ],
   "source": [
    "campaign_length_plot = sns.boxplot(data=df, x=\"state\", y=\"campaign_length\")\n",
    "campaign_length_plot.figure.set_size_inches(8, 8)\n",
    "campaign_length_plot.set_ylabel(\"Campaign length (days)\")\n",
    "plt.show()"
   ]
  },
  {
   "cell_type": "markdown",
   "metadata": {},
   "source": [
    "Successful campaigns seem to have a narrower distribution with a lower mean campaign length. The median value appears to be almost same for both failed and successful campaigns."
   ]
  },
  {
   "cell_type": "code",
   "execution_count": 32,
   "metadata": {},
   "outputs": [
    {
     "data": {
      "text/plain": [
       "Ttest_indResult(statistic=41.18139553638472, pvalue=0.0)"
      ]
     },
     "execution_count": 32,
     "metadata": {},
     "output_type": "execute_result"
    }
   ],
   "source": [
    "stats.ttest_ind(df[df[\"state\"] == \"failed\"][\"campaign_length\"], df[df[\"state\"] == \"successful\"][\"campaign_length\"])"
   ]
  },
  {
   "cell_type": "code",
   "execution_count": 33,
   "metadata": {},
   "outputs": [
    {
     "name": "stdout",
     "output_type": "stream",
     "text": [
      "Mean campaign duration among failed campaigns 34.71372712369998\n",
      "Mean campaign duration among successful campaigns 32.21793814847583\n"
     ]
    }
   ],
   "source": [
    "print(\"Mean campaign duration among failed campaigns\", np.mean(df[df[\"state\"] == \"failed\"][\"campaign_length\"]))\n",
    "print(\"Mean campaign duration among successful campaigns\", np.mean(df[df[\"state\"] == \"successful\"][\"campaign_length\"]))"
   ]
  },
  {
   "cell_type": "code",
   "execution_count": 34,
   "metadata": {},
   "outputs": [
    {
     "data": {
      "image/png": "[encoded data removed]",
      "text/plain": [
       "<Figure size 576x576 with 1 Axes>"
      ]
     },
     "metadata": {},
     "output_type": "display_data"
    }
   ],
   "source": [
    "backer_plot = sns.boxplot(data=df, x=\"state\", y=\"backers_count\")\n",
    "backer_plot.figure.set_size_inches(8, 8)\n",
    "backer_plot.set_ylabel(\"Number of Backers\")\n",
    "backer_plot.axes.set_yscale(\"log\")\n",
    "plt.show()"
   ]
  },
  {
   "cell_type": "markdown",
   "metadata": {},
   "source": [
    "Successful campaigns are supported by much more people, as one would expect. The y-scale is again logarithmic."
   ]
  },
  {
   "cell_type": "code",
   "execution_count": 35,
   "metadata": {},
   "outputs": [
    {
     "data": {
      "text/plain": [
       "Ttest_indResult(statistic=-48.36647980437488, pvalue=0.0)"
      ]
     },
     "execution_count": 35,
     "metadata": {},
     "output_type": "execute_result"
    }
   ],
   "source": [
    "stats.ttest_ind(df[df[\"state\"] == \"failed\"][\"backers_count\"], df[df[\"state\"] == \"successful\"][\"backers_count\"])"
   ]
  },
  {
   "cell_type": "code",
   "execution_count": 36,
   "metadata": {},
   "outputs": [
    {
     "name": "stdout",
     "output_type": "stream",
     "text": [
      "Mean number of backers among failed campaigns 13.10963156056005\n",
      "Mean number of backers among successful campaigns 232.360803908952\n"
     ]
    }
   ],
   "source": [
    "print(\"Mean number of backers among failed campaigns\", np.mean(df[df[\"state\"] == \"failed\"][\"backers_count\"]))\n",
    "print(\"Mean number of backers among successful campaigns\", np.mean(df[df[\"state\"] == \"successful\"][\"backers_count\"]))"
   ]
  },
  {
   "cell_type": "code",
   "execution_count": 37,
   "metadata": {},
   "outputs": [
    {
     "data": {
      "image/png": "[encoded data removed]",
      "text/plain": [
       "<Figure size 576x576 with 1 Axes>"
      ]
     },
     "metadata": {},
     "output_type": "display_data"
    }
   ],
   "source": [
    "achievement_plot = sns.boxplot(data=df, x=\"state\", y=\"achievement\")\n",
    "achievement_plot.figure.set_size_inches(8, 8)\n",
    "achievement_plot.set_ylabel(\"Proportion of goal raised\")\n",
    "achievement_plot.axes.set_yscale(\"log\")\n",
    "plt.show()"
   ]
  },
  {
   "cell_type": "code",
   "execution_count": 38,
   "metadata": {},
   "outputs": [
    {
     "data": {
      "text/plain": [
       "Ttest_indResult(statistic=-6.951469190833243, pvalue=3.627667897132902e-12)"
      ]
     },
     "execution_count": 38,
     "metadata": {},
     "output_type": "execute_result"
    }
   ],
   "source": [
    "stats.ttest_ind(df[df[\"state\"] == \"failed\"][\"achievement\"], df[df[\"state\"] == \"successful\"][\"achievement\"])"
   ]
  },
  {
   "cell_type": "code",
   "execution_count": 39,
   "metadata": {},
   "outputs": [
    {
     "name": "stdout",
     "output_type": "stream",
     "text": [
      "Mean achievement among failed campaigns 0.08142467322681181\n",
      "Mean achievement among successful campaigns 6.100125066188743\n"
     ]
    }
   ],
   "source": [
    "print(\"Mean achievement among failed campaigns\", np.mean(df[df[\"state\"] == \"failed\"][\"achievement\"]))\n",
    "print(\"Mean achievement among successful campaigns\", np.mean(df[df[\"state\"] == \"successful\"][\"achievement\"]))"
   ]
  },
  {
   "cell_type": "code",
   "execution_count": 42,
   "metadata": {},
   "outputs": [
    {
     "data": {
      "text/plain": [
       "count    99464.000000\n",
       "mean         6.100125\n",
       "std        236.198108\n",
       "min          0.999830\n",
       "25%          1.046476\n",
       "50%          1.164367\n",
       "75%          1.593342\n",
       "max      41535.010000\n",
       "Name: achievement, dtype: float64"
      ]
     },
     "execution_count": 42,
     "metadata": {},
     "output_type": "execute_result"
    }
   ],
   "source": [
    "df[df[\"state\"] == \"successful\"][\"achievement\"].describe()"
   ]
  },
  {
   "cell_type": "markdown",
   "metadata": {},
   "source": [
    "Based on the EDA, create a logistic regression model to predict the fate of the campaign (success/fail)."
   ]
  },
  {
   "cell_type": "markdown",
   "metadata": {},
   "source": [
    "The predictor variables are number of backers, length of the campaign, category and country of the campaign."
   ]
  },
  {
   "cell_type": "code",
   "execution_count": 43,
   "metadata": {},
   "outputs": [],
   "source": [
    "X = df[[\"goal\", \"backers_count\", \"campaign_length\", \"category\", \"country\"]].copy()\n",
    "y = df[\"state\"].copy()\n",
    "enc = LabelEncoder()\n",
    "enc.fit(X[\"category\"])\n",
    "X[\"category\"] = enc.transform(X[\"category\"])\n",
    "enc = LabelEncoder()\n",
    "enc.fit(X[\"country\"])\n",
    "X[\"country\"] = enc.transform(X[\"country\"])"
   ]
  },
  {
   "cell_type": "markdown",
   "metadata": {},
   "source": [
    "Split the data into training and testing sets"
   ]
  },
  {
   "cell_type": "code",
   "execution_count": 44,
   "metadata": {},
   "outputs": [],
   "source": [
    "#Fixed seed for reproducibility\n",
    "X_train, X_test, y_train, y_test = train_test_split(X, y, random_state=19284692)"
   ]
  },
  {
   "cell_type": "code",
   "execution_count": 45,
   "metadata": {},
   "outputs": [],
   "source": [
    "classifier = LogisticRegression(random_state=19284692, solver=\"lbfgs\", max_iter=200).fit(X_train, y_train)"
   ]
  },
  {
   "cell_type": "code",
   "execution_count": 46,
   "metadata": {},
   "outputs": [
    {
     "name": "stdout",
     "output_type": "stream",
     "text": [
      "Mean accuracy: 0.8963\n"
     ]
    }
   ],
   "source": [
    "print(\"Mean accuracy: {:.4f}\".format(classifier.score(X_test, y_test)))"
   ]
  },
  {
   "cell_type": "code",
   "execution_count": 47,
   "metadata": {},
   "outputs": [
    {
     "name": "stdout",
     "output_type": "stream",
     "text": [
      "ROC area under the curve: 0.96\n"
     ]
    }
   ],
   "source": [
    "print(\"ROC area under the curve: {:.2f}\".format(roc_auc_score(y_test, classifier.predict_proba(X_test)[:,1])))"
   ]
  },
  {
   "cell_type": "code",
   "execution_count": 48,
   "metadata": {},
   "outputs": [
    {
     "data": {
      "image/png": "[encoded data removed]",
      "text/plain": [
       "<Figure size 576x576 with 1 Axes>"
      ]
     },
     "metadata": {},
     "output_type": "display_data"
    }
   ],
   "source": [
    "fpr, tpr, thresholds = roc_curve(y_test, classifier.predict_proba(X_test)[:,1], pos_label=\"successful\")\n",
    "plt.plot(fpr, tpr, label=\"Logistic Regression\")\n",
    "plt.plot([0, 1], [0, 1],\"r--\")\n",
    "plt.xlim([-0.05, 1.05])\n",
    "plt.ylim([-0.05, 1.05])\n",
    "plt.xlabel(\"False Positive Rate\")\n",
    "plt.ylabel(\"True Positive Rate\")\n",
    "plt.title(\"Receiver operating characteristic\")\n",
    "fig = plt.gcf()\n",
    "fig.set_size_inches(8, 8)\n",
    "plt.show()"
   ]
  },
  {
   "cell_type": "code",
   "execution_count": 49,
   "metadata": {},
   "outputs": [
    {
     "name": "stdout",
     "output_type": "stream",
     "text": [
      "[-0.74337185] [[-7.48141003e-05  5.16048362e-02 -1.31678384e-02 -1.03979149e-02\n",
      "   2.32308284e-02]]\n"
     ]
    }
   ],
   "source": [
    "print(classifier.intercept_, classifier.coef_)"
   ]
  },
  {
   "cell_type": "code",
   "execution_count": null,
   "metadata": {},
   "outputs": [],
   "source": []
  }
 ],
 "metadata": {
  "kernelspec": {
   "display_name": "Python 3",
   "language": "python",
   "name": "python3"
  },
  "language_info": {
   "codemirror_mode": {
    "name": "ipython",
    "version": 3
   },
   "file_extension": ".py",
   "mimetype": "text/x-python",
   "name": "python",
   "nbconvert_exporter": "python",
   "pygments_lexer": "ipython3",
   "version": "3.7.0"
  }
 },
 "nbformat": 4,
 "nbformat_minor": 2
}
